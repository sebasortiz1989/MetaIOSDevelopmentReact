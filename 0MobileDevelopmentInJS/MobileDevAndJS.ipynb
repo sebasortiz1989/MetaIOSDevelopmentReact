{
 "cells": [
  {
   "cell_type": "markdown",
   "metadata": {},
   "source": [
    "Here's an example of polymorphism using classes in JavaScript:"
   ]
  },
  {
   "cell_type": "code",
   "execution_count": null,
   "metadata": {},
   "outputs": [
    {
     "ename": "Error",
     "evalue": "(7,13): error CS1514: { expected\n(7,13): error CS1513: } expected\n(8,5): error CS1014: A get or set accessor expected\n(8,13): error CS1014: A get or set accessor expected\n(8,16): error CS1014: A get or set accessor expected\n(14,15): error CS1514: { expected\n(14,15): error CS1513: } expected\n(15,5): error CS1014: A get or set accessor expected\n(15,13): error CS1014: A get or set accessor expected\n(15,16): error CS1014: A get or set accessor expected",
     "output_type": "error",
     "traceback": [
      "(7,13): error CS1514: { expected\n",
      "(7,13): error CS1513: } expected\n",
      "(8,5): error CS1014: A get or set accessor expected\n",
      "(8,13): error CS1014: A get or set accessor expected\n",
      "(8,16): error CS1014: A get or set accessor expected\n",
      "(14,15): error CS1514: { expected\n",
      "(14,15): error CS1513: } expected\n",
      "(15,5): error CS1014: A get or set accessor expected\n",
      "(15,13): error CS1014: A get or set accessor expected\n",
      "(15,16): error CS1014: A get or set accessor expected"
     ]
    }
   ],
   "source": [
    "class Bird {\n",
    "    useWings() {\n",
    "        console.log(\"Flying!\");\n",
    "    }\n",
    "}\n",
    "\n",
    "class Eagle extends Bird {\n",
    "    useWings() {\n",
    "        super.useWings();\n",
    "        console.log(\"Barely flapping!\");\n",
    "    }\n",
    "}\n",
    "\n",
    "class Penguin extends Bird {\n",
    "    useWings() {\n",
    "        console.log(\"Diving!\");\n",
    "    }\n",
    "}\n",
    "\n",
    "var baldEagle = new Eagle();\n",
    "var kingPenguin = new Penguin();\n",
    "baldEagle.useWings(); // \"Flying! Barely flapping!\"\n",
    "kingPenguin.useWings(); // \"Diving!\""
   ]
  }
 ],
 "metadata": {
  "kernelspec": {
   "display_name": ".NET (C#)",
   "language": "C#",
   "name": ".net-csharp"
  },
  "polyglot_notebook": {
   "kernelInfo": {
    "defaultKernelName": "javascript",
    "items": [
     {
      "aliases": [],
      "languageName": "javascript",
      "name": "javascript"
     }
    ]
   }
  }
 },
 "nbformat": 4,
 "nbformat_minor": 2
}
